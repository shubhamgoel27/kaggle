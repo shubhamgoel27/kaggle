{
 "cells": [
  {
   "cell_type": "code",
   "execution_count": 1,
   "metadata": {
    "collapsed": false
   },
   "outputs": [],
   "source": [
    "# Ignore warnings\n",
    "import warnings\n",
    "warnings.filterwarnings('ignore')\n",
    "\n",
    "import numpy as np\n",
    "import pandas as pd\n",
    "from nltk.stem import PorterStemmer\n",
    "import re\n",
    "\n",
    "# Visualisation\n",
    "import matplotlib as mpl\n",
    "import matplotlib.pyplot as plt\n",
    "import matplotlib.pylab as pylab\n",
    "import seaborn as sns\n",
    "sns.set(style=\"darkgrid\", color_codes=True)\n",
    "sns.set(font_scale=1)\n",
    "\n",
    "# Configure visualisations\n",
    "%matplotlib inline\n",
    "mpl.style.use( 'ggplot' )\n",
    "pylab.rcParams[ 'figure.figsize' ] = 8 , 6"
   ]
  },
  {
   "cell_type": "markdown",
   "metadata": {},
   "source": [
    "### Action Plan\n",
    "1. Read data and create Validation set\n",
    "2. Explore dataset with visualizations\n",
    "3. Feature Engineering\n",
    "4. Train model\n",
    "5. Generate predictions\n",
    "6. Validate predictions\n",
    "7. Submit predictions to Kaggle"
   ]
  },
  {
   "cell_type": "markdown",
   "metadata": {},
   "source": [
    "### 1. Reading data "
   ]
  },
  {
   "cell_type": "code",
   "execution_count": 10,
   "metadata": {
    "collapsed": false
   },
   "outputs": [
    {
     "name": "stdout",
     "output_type": "stream",
     "text": [
      "/home/shubham/work/projects/two_sigma_rental/data\n"
     ]
    }
   ],
   "source": [
    "cd data/"
   ]
  },
  {
   "cell_type": "code",
   "execution_count": 11,
   "metadata": {
    "collapsed": false
   },
   "outputs": [
    {
     "name": "stdout",
     "output_type": "stream",
     "text": [
      "\u001b[0m\u001b[01;31mtest.json.zip\u001b[0m  \u001b[01;31mtrain.json.zip\u001b[0m\r\n"
     ]
    }
   ],
   "source": [
    "ls"
   ]
  },
  {
   "cell_type": "code",
   "execution_count": 12,
   "metadata": {
    "collapsed": false
   },
   "outputs": [
    {
     "name": "stdout",
     "output_type": "stream",
     "text": [
      "Archive:  train.json.zip\n",
      "  inflating: train.json              \n",
      "Archive:  test.json.zip\n",
      "  inflating: test.json               \n"
     ]
    }
   ],
   "source": [
    "!unzip train.json.zip\n",
    "!unzip test.json.zip"
   ]
  },
  {
   "cell_type": "code",
   "execution_count": 13,
   "metadata": {
    "collapsed": true
   },
   "outputs": [],
   "source": [
    "!rm train.json.zip test.json.zip"
   ]
  },
  {
   "cell_type": "code",
   "execution_count": 17,
   "metadata": {
    "collapsed": false
   },
   "outputs": [
    {
     "name": "stdout",
     "output_type": "stream",
     "text": [
      "/home/shubham/work/projects/two_sigma_rental\n"
     ]
    }
   ],
   "source": [
    "cd .."
   ]
  },
  {
   "cell_type": "code",
   "execution_count": 2,
   "metadata": {
    "collapsed": true
   },
   "outputs": [],
   "source": [
    "train = pd.read_json('data/train.json')\n",
    "test = pd.read_json('data/test.json')"
   ]
  },
  {
   "cell_type": "code",
   "execution_count": 3,
   "metadata": {
    "collapsed": true
   },
   "outputs": [],
   "source": [
    "train['flag'] = 'train'\n",
    "test['flag'] = 'test'\n",
    "full_data = pd.concat([train,test])"
   ]
  },
  {
   "cell_type": "markdown",
   "metadata": {},
   "source": [
    "### 2. Explore dataset with visualizations"
   ]
  },
  {
   "cell_type": "code",
   "execution_count": 5,
   "metadata": {
    "collapsed": false
   },
   "outputs": [
    {
     "data": {
      "text/html": [
       "<div>\n",
       "<table border=\"1\" class=\"dataframe\">\n",
       "  <thead>\n",
       "    <tr style=\"text-align: right;\">\n",
       "      <th></th>\n",
       "      <th>10</th>\n",
       "      <th>10000</th>\n",
       "    </tr>\n",
       "  </thead>\n",
       "  <tbody>\n",
       "    <tr>\n",
       "      <th>bathrooms</th>\n",
       "      <td>1.5</td>\n",
       "      <td>1</td>\n",
       "    </tr>\n",
       "    <tr>\n",
       "      <th>bedrooms</th>\n",
       "      <td>3</td>\n",
       "      <td>2</td>\n",
       "    </tr>\n",
       "    <tr>\n",
       "      <th>building_id</th>\n",
       "      <td>53a5b119ba8f7b61d4e010512e0dfc85</td>\n",
       "      <td>c5c8a357cba207596b04d1afd1e4f130</td>\n",
       "    </tr>\n",
       "    <tr>\n",
       "      <th>created</th>\n",
       "      <td>2016-06-24 07:54:24</td>\n",
       "      <td>2016-06-12 12:19:27</td>\n",
       "    </tr>\n",
       "    <tr>\n",
       "      <th>description</th>\n",
       "      <td>A Brand New 3 Bedroom 1.5 bath ApartmentEnjoy ...</td>\n",
       "      <td></td>\n",
       "    </tr>\n",
       "    <tr>\n",
       "      <th>display_address</th>\n",
       "      <td>Metropolitan Avenue</td>\n",
       "      <td>Columbus Avenue</td>\n",
       "    </tr>\n",
       "    <tr>\n",
       "      <th>features</th>\n",
       "      <td>[]</td>\n",
       "      <td>[Doorman, Elevator, Fitness Center, Cats Allow...</td>\n",
       "    </tr>\n",
       "    <tr>\n",
       "      <th>flag</th>\n",
       "      <td>train</td>\n",
       "      <td>train</td>\n",
       "    </tr>\n",
       "    <tr>\n",
       "      <th>interest_level</th>\n",
       "      <td>medium</td>\n",
       "      <td>low</td>\n",
       "    </tr>\n",
       "    <tr>\n",
       "      <th>latitude</th>\n",
       "      <td>40.7145</td>\n",
       "      <td>40.7947</td>\n",
       "    </tr>\n",
       "    <tr>\n",
       "      <th>listing_id</th>\n",
       "      <td>7211212</td>\n",
       "      <td>7150865</td>\n",
       "    </tr>\n",
       "    <tr>\n",
       "      <th>longitude</th>\n",
       "      <td>-73.9425</td>\n",
       "      <td>-73.9667</td>\n",
       "    </tr>\n",
       "    <tr>\n",
       "      <th>manager_id</th>\n",
       "      <td>5ba989232d0489da1b5f2c45f6688adc</td>\n",
       "      <td>7533621a882f71e25173b27e3139d83d</td>\n",
       "    </tr>\n",
       "    <tr>\n",
       "      <th>photos</th>\n",
       "      <td>[https://photos.renthop.com/2/7211212_1ed4542e...</td>\n",
       "      <td>[https://photos.renthop.com/2/7150865_be3306c5...</td>\n",
       "    </tr>\n",
       "    <tr>\n",
       "      <th>price</th>\n",
       "      <td>3000</td>\n",
       "      <td>5465</td>\n",
       "    </tr>\n",
       "    <tr>\n",
       "      <th>street_address</th>\n",
       "      <td>792 Metropolitan Avenue</td>\n",
       "      <td>808 Columbus Avenue</td>\n",
       "    </tr>\n",
       "  </tbody>\n",
       "</table>\n",
       "</div>"
      ],
      "text/plain": [
       "                                                             10     \\\n",
       "bathrooms                                                      1.5   \n",
       "bedrooms                                                         3   \n",
       "building_id                       53a5b119ba8f7b61d4e010512e0dfc85   \n",
       "created                                        2016-06-24 07:54:24   \n",
       "description      A Brand New 3 Bedroom 1.5 bath ApartmentEnjoy ...   \n",
       "display_address                                Metropolitan Avenue   \n",
       "features                                                        []   \n",
       "flag                                                         train   \n",
       "interest_level                                              medium   \n",
       "latitude                                                   40.7145   \n",
       "listing_id                                                 7211212   \n",
       "longitude                                                 -73.9425   \n",
       "manager_id                        5ba989232d0489da1b5f2c45f6688adc   \n",
       "photos           [https://photos.renthop.com/2/7211212_1ed4542e...   \n",
       "price                                                         3000   \n",
       "street_address                             792 Metropolitan Avenue   \n",
       "\n",
       "                                                             10000  \n",
       "bathrooms                                                        1  \n",
       "bedrooms                                                         2  \n",
       "building_id                       c5c8a357cba207596b04d1afd1e4f130  \n",
       "created                                        2016-06-12 12:19:27  \n",
       "description                                                         \n",
       "display_address                                    Columbus Avenue  \n",
       "features         [Doorman, Elevator, Fitness Center, Cats Allow...  \n",
       "flag                                                         train  \n",
       "interest_level                                                 low  \n",
       "latitude                                                   40.7947  \n",
       "listing_id                                                 7150865  \n",
       "longitude                                                 -73.9667  \n",
       "manager_id                        7533621a882f71e25173b27e3139d83d  \n",
       "photos           [https://photos.renthop.com/2/7150865_be3306c5...  \n",
       "price                                                         5465  \n",
       "street_address                                 808 Columbus Avenue  "
      ]
     },
     "execution_count": 5,
     "metadata": {},
     "output_type": "execute_result"
    }
   ],
   "source": [
    "full_data.head(2).T"
   ]
  },
  {
   "cell_type": "code",
   "execution_count": 32,
   "metadata": {
    "collapsed": false
   },
   "outputs": [
    {
     "data": {
      "text/html": [
       "<div>\n",
       "<table border=\"1\" class=\"dataframe\">\n",
       "  <thead>\n",
       "    <tr style=\"text-align: right;\">\n",
       "      <th></th>\n",
       "      <th>0</th>\n",
       "      <th>1</th>\n",
       "      <th>100</th>\n",
       "      <th>1000</th>\n",
       "      <th>100000</th>\n",
       "    </tr>\n",
       "  </thead>\n",
       "  <tbody>\n",
       "    <tr>\n",
       "      <th>bathrooms</th>\n",
       "      <td>1</td>\n",
       "      <td>1</td>\n",
       "      <td>1</td>\n",
       "      <td>1</td>\n",
       "      <td>2</td>\n",
       "    </tr>\n",
       "    <tr>\n",
       "      <th>bedrooms</th>\n",
       "      <td>1</td>\n",
       "      <td>2</td>\n",
       "      <td>1</td>\n",
       "      <td>2</td>\n",
       "      <td>2</td>\n",
       "    </tr>\n",
       "    <tr>\n",
       "      <th>building_id</th>\n",
       "      <td>79780be1514f645d7e6be99a3de696c5</td>\n",
       "      <td>0</td>\n",
       "      <td>3dbbb69fd52e0d25131aa1cd459c87eb</td>\n",
       "      <td>783d21d013a7e655bddc4ed0d461cc5e</td>\n",
       "      <td>6134e7c4dd1a98d9aee36623c9872b49</td>\n",
       "    </tr>\n",
       "    <tr>\n",
       "      <th>created</th>\n",
       "      <td>2016-06-11 05:29:41</td>\n",
       "      <td>2016-06-24 06:36:34</td>\n",
       "      <td>2016-06-03 04:29:40</td>\n",
       "      <td>2016-06-11 06:17:35</td>\n",
       "      <td>2016-04-12 05:24:17</td>\n",
       "    </tr>\n",
       "    <tr>\n",
       "      <th>description</th>\n",
       "      <td>Large with awesome terrace--accessible via bed...</td>\n",
       "      <td>Prime Soho - between Bleecker and Houston - Ne...</td>\n",
       "      <td>New York chic has reached a new level ...</td>\n",
       "      <td>Step into this fantastic new Construction in t...</td>\n",
       "      <td>~Take a stroll in Central Park, enjoy the ente...</td>\n",
       "    </tr>\n",
       "    <tr>\n",
       "      <th>display_address</th>\n",
       "      <td>Suffolk Street</td>\n",
       "      <td>Thompson Street</td>\n",
       "      <td>101 East 10th Street</td>\n",
       "      <td>South Third Street\\r</td>\n",
       "      <td>Midtown West, 8th Ave</td>\n",
       "    </tr>\n",
       "    <tr>\n",
       "      <th>features</th>\n",
       "      <td>[Elevator, Laundry in Building, Laundry in Uni...</td>\n",
       "      <td>[Pre-War, Dogs Allowed, Cats Allowed]</td>\n",
       "      <td>[Doorman, Elevator, No Fee]</td>\n",
       "      <td>[Roof Deck, Balcony, Elevator, Laundry in Buil...</td>\n",
       "      <td>[Common Outdoor Space, Cats Allowed, Dogs Allo...</td>\n",
       "    </tr>\n",
       "    <tr>\n",
       "      <th>latitude</th>\n",
       "      <td>40.7185</td>\n",
       "      <td>40.7278</td>\n",
       "      <td>40.7306</td>\n",
       "      <td>40.7109</td>\n",
       "      <td>40.765</td>\n",
       "    </tr>\n",
       "    <tr>\n",
       "      <th>listing_id</th>\n",
       "      <td>7142618</td>\n",
       "      <td>7210040</td>\n",
       "      <td>7103890</td>\n",
       "      <td>7143442</td>\n",
       "      <td>6860601</td>\n",
       "    </tr>\n",
       "    <tr>\n",
       "      <th>longitude</th>\n",
       "      <td>-73.9865</td>\n",
       "      <td>-74</td>\n",
       "      <td>-73.989</td>\n",
       "      <td>-73.9571</td>\n",
       "      <td>-73.9845</td>\n",
       "    </tr>\n",
       "    <tr>\n",
       "      <th>manager_id</th>\n",
       "      <td>b1b1852c416d78d7765d746cb1b8921f</td>\n",
       "      <td>d0b5648017832b2427eeb9956d966a14</td>\n",
       "      <td>9ca6f3baa475c37a3b3521a394d65467</td>\n",
       "      <td>0b9d5db96db8472d7aeb67c67338c4d2</td>\n",
       "      <td>b5eda0eb31b042ce2124fd9e9fcfce2f</td>\n",
       "    </tr>\n",
       "    <tr>\n",
       "      <th>photos</th>\n",
       "      <td>[https://photos.renthop.com/2/7142618_1c45a2c8...</td>\n",
       "      <td>[https://photos.renthop.com/2/7210040_d824cc71...</td>\n",
       "      <td>[https://photos.renthop.com/2/7103890_85b33077...</td>\n",
       "      <td>[https://photos.renthop.com/2/7143442_0879e9e0...</td>\n",
       "      <td>[https://photos.renthop.com/2/6860601_c96164d8...</td>\n",
       "    </tr>\n",
       "    <tr>\n",
       "      <th>price</th>\n",
       "      <td>2950</td>\n",
       "      <td>2850</td>\n",
       "      <td>3758</td>\n",
       "      <td>3300</td>\n",
       "      <td>4900</td>\n",
       "    </tr>\n",
       "    <tr>\n",
       "      <th>street_address</th>\n",
       "      <td>99 Suffolk Street</td>\n",
       "      <td>176 Thompson Street</td>\n",
       "      <td>101 East 10th Street</td>\n",
       "      <td>251  South Third Street\\r</td>\n",
       "      <td>260 West 54th Street</td>\n",
       "    </tr>\n",
       "  </tbody>\n",
       "</table>\n",
       "</div>"
      ],
      "text/plain": [
       "                                                            0       \\\n",
       "bathrooms                                                        1   \n",
       "bedrooms                                                         1   \n",
       "building_id                       79780be1514f645d7e6be99a3de696c5   \n",
       "created                                        2016-06-11 05:29:41   \n",
       "description      Large with awesome terrace--accessible via bed...   \n",
       "display_address                                     Suffolk Street   \n",
       "features         [Elevator, Laundry in Building, Laundry in Uni...   \n",
       "latitude                                                   40.7185   \n",
       "listing_id                                                 7142618   \n",
       "longitude                                                 -73.9865   \n",
       "manager_id                        b1b1852c416d78d7765d746cb1b8921f   \n",
       "photos           [https://photos.renthop.com/2/7142618_1c45a2c8...   \n",
       "price                                                         2950   \n",
       "street_address                                   99 Suffolk Street   \n",
       "\n",
       "                                                            1       \\\n",
       "bathrooms                                                        1   \n",
       "bedrooms                                                         2   \n",
       "building_id                                                      0   \n",
       "created                                        2016-06-24 06:36:34   \n",
       "description      Prime Soho - between Bleecker and Houston - Ne...   \n",
       "display_address                                    Thompson Street   \n",
       "features                     [Pre-War, Dogs Allowed, Cats Allowed]   \n",
       "latitude                                                   40.7278   \n",
       "listing_id                                                 7210040   \n",
       "longitude                                                      -74   \n",
       "manager_id                        d0b5648017832b2427eeb9956d966a14   \n",
       "photos           [https://photos.renthop.com/2/7210040_d824cc71...   \n",
       "price                                                         2850   \n",
       "street_address                                 176 Thompson Street   \n",
       "\n",
       "                                                            100     \\\n",
       "bathrooms                                                        1   \n",
       "bedrooms                                                         1   \n",
       "building_id                       3dbbb69fd52e0d25131aa1cd459c87eb   \n",
       "created                                        2016-06-03 04:29:40   \n",
       "description              New York chic has reached a new level ...   \n",
       "display_address                               101 East 10th Street   \n",
       "features                               [Doorman, Elevator, No Fee]   \n",
       "latitude                                                   40.7306   \n",
       "listing_id                                                 7103890   \n",
       "longitude                                                  -73.989   \n",
       "manager_id                        9ca6f3baa475c37a3b3521a394d65467   \n",
       "photos           [https://photos.renthop.com/2/7103890_85b33077...   \n",
       "price                                                         3758   \n",
       "street_address                                101 East 10th Street   \n",
       "\n",
       "                                                            1000    \\\n",
       "bathrooms                                                        1   \n",
       "bedrooms                                                         2   \n",
       "building_id                       783d21d013a7e655bddc4ed0d461cc5e   \n",
       "created                                        2016-06-11 06:17:35   \n",
       "description      Step into this fantastic new Construction in t...   \n",
       "display_address                               South Third Street\\r   \n",
       "features         [Roof Deck, Balcony, Elevator, Laundry in Buil...   \n",
       "latitude                                                   40.7109   \n",
       "listing_id                                                 7143442   \n",
       "longitude                                                 -73.9571   \n",
       "manager_id                        0b9d5db96db8472d7aeb67c67338c4d2   \n",
       "photos           [https://photos.renthop.com/2/7143442_0879e9e0...   \n",
       "price                                                         3300   \n",
       "street_address                           251  South Third Street\\r   \n",
       "\n",
       "                                                            100000  \n",
       "bathrooms                                                        2  \n",
       "bedrooms                                                         2  \n",
       "building_id                       6134e7c4dd1a98d9aee36623c9872b49  \n",
       "created                                        2016-04-12 05:24:17  \n",
       "description      ~Take a stroll in Central Park, enjoy the ente...  \n",
       "display_address                              Midtown West, 8th Ave  \n",
       "features         [Common Outdoor Space, Cats Allowed, Dogs Allo...  \n",
       "latitude                                                    40.765  \n",
       "listing_id                                                 6860601  \n",
       "longitude                                                 -73.9845  \n",
       "manager_id                        b5eda0eb31b042ce2124fd9e9fcfce2f  \n",
       "photos           [https://photos.renthop.com/2/6860601_c96164d8...  \n",
       "price                                                         4900  \n",
       "street_address                                260 West 54th Street  "
      ]
     },
     "execution_count": 32,
     "metadata": {},
     "output_type": "execute_result"
    }
   ],
   "source": [
    "test.head().T"
   ]
  },
  {
   "cell_type": "code",
   "execution_count": 26,
   "metadata": {
    "collapsed": false
   },
   "outputs": [
    {
     "data": {
      "text/plain": [
       "(74659, 14)"
      ]
     },
     "execution_count": 26,
     "metadata": {},
     "output_type": "execute_result"
    }
   ],
   "source": [
    "test.shape"
   ]
  },
  {
   "cell_type": "code",
   "execution_count": 9,
   "metadata": {
    "collapsed": false
   },
   "outputs": [],
   "source": [
    "def plot_correlation_map( df ):\n",
    "    corr = df.corr()\n",
    "    _ , ax = plt.subplots( figsize =( 12 , 10 ) )\n",
    "    cmap = sns.diverging_palette( 220 , 10 , as_cmap = True )\n",
    "    _ = sns.heatmap(\n",
    "        corr, \n",
    "        cmap = cmap,\n",
    "        square=True, \n",
    "        cbar_kws={ 'shrink' : .9 }, \n",
    "        ax=ax, \n",
    "        annot = True, \n",
    "        annot_kws = { 'fontsize' : 12 }\n",
    "    )"
   ]
  },
  {
   "cell_type": "code",
   "execution_count": 10,
   "metadata": {
    "collapsed": false
   },
   "outputs": [
    {
     "data": {
      "image/png": "[encoded data removed]",
      "text/plain": [
       "<matplotlib.figure.Figure at 0x7fee8765dd10>"
      ]
     },
     "metadata": {},
     "output_type": "display_data"
    }
   ],
   "source": [
    "plot_correlation_map(full_data)"
   ]
  },
  {
   "cell_type": "code",
   "execution_count": 4,
   "metadata": {
    "collapsed": false
   },
   "outputs": [
    {
     "name": "stdout",
     "output_type": "stream",
     "text": [
      "<class 'pandas.core.frame.DataFrame'>\n",
      "Int64Index: 49352 entries, 10 to 99994\n",
      "Data columns (total 16 columns):\n",
      "bathrooms          49352 non-null float64\n",
      "bedrooms           49352 non-null int64\n",
      "building_id        49352 non-null object\n",
      "created            49352 non-null object\n",
      "description        49352 non-null object\n",
      "display_address    49352 non-null object\n",
      "features           49352 non-null object\n",
      "interest_level     49352 non-null object\n",
      "latitude           49352 non-null float64\n",
      "listing_id         49352 non-null int64\n",
      "longitude          49352 non-null float64\n",
      "manager_id         49352 non-null object\n",
      "photos             49352 non-null object\n",
      "price              49352 non-null int64\n",
      "street_address     49352 non-null object\n",
      "flag               49352 non-null object\n",
      "dtypes: float64(3), int64(3), object(10)\n",
      "memory usage: 6.4+ MB\n"
     ]
    }
   ],
   "source": [
    "train.info()"
   ]
  },
  {
   "cell_type": "code",
   "execution_count": 16,
   "metadata": {
    "collapsed": false
   },
   "outputs": [
    {
     "data": {
      "text/plain": [
       "<matplotlib.axes._subplots.AxesSubplot at 0x7fee9757d810>"
      ]
     },
     "execution_count": 16,
     "metadata": {},
     "output_type": "execute_result"
    },
    {
     "data": {
      "image/png": "[encoded data removed]",
      "text/plain": [
       "<matplotlib.figure.Figure at 0x7fee8deb6810>"
      ]
     },
     "metadata": {},
     "output_type": "display_data"
    }
   ],
   "source": [
    "Features based on date\n",
    "\n",
    "full_data.num_photos.value_counts().plot(kind='bar',color='purple')"
   ]
  },
  {
   "cell_type": "markdown",
   "metadata": {},
   "source": [
    "### 3. Feature Engineering"
   ]
  },
  {
   "cell_type": "markdown",
   "metadata": {},
   "source": [
    "Text features"
   ]
  },
  {
   "cell_type": "code",
   "execution_count": 11,
   "metadata": {
    "collapsed": true
   },
   "outputs": [],
   "source": [
    "full_data['num_photos'] = full_data['photos'].apply(len)\n",
    "full_data['num_features'] = full_data['features'].apply(len)\n",
    "full_data['num_description_words'] = full_data['description'].apply(lambda x: len(x.split(' ')))\n",
    "full_data['num_description_len'] = full_data['description'].apply(len)"
   ]
  },
  {
   "cell_type": "markdown",
   "metadata": {},
   "source": [
    "Date features"
   ]
  },
  {
   "cell_type": "code",
   "execution_count": 73,
   "metadata": {
    "collapsed": false
   },
   "outputs": [],
   "source": [
    "full_data['created'] = pd.to_datetime(full_data['created'])\n",
    "full_data['num_created_weekday'] = full_data.created.dt.dayofweek.astype(float)\n",
    "full_data['num_created_weekofyear'] = full_data.created.dt.weekofyear"
   ]
  },
  {
   "cell_type": "markdown",
   "metadata": {},
   "source": [
    "Making the number of photos column equal to 15 if photos are greater than 15"
   ]
  },
  {
   "cell_type": "code",
   "execution_count": 17,
   "metadata": {
    "collapsed": true
   },
   "outputs": [],
   "source": [
    "full_data['num_photos'].ix[full_data['num_photos']>15] = 15"
   ]
  },
  {
   "cell_type": "code",
   "execution_count": 18,
   "metadata": {
    "collapsed": false
   },
   "outputs": [
    {
     "data": {
      "text/plain": [
       "<matplotlib.axes._subplots.AxesSubplot at 0x7fee9d6d86d0>"
      ]
     },
     "execution_count": 18,
     "metadata": {},
     "output_type": "execute_result"
    },
    {
     "data": {
      "image/png": "[encoded data removed]",
      "text/plain": [
       "<matplotlib.figure.Figure at 0x7fee97e13750>"
      ]
     },
     "metadata": {},
     "output_type": "display_data"
    }
   ],
   "source": [
    "order = ['low', 'medium', 'high']\n",
    "sns.stripplot(y=\"num_photos\", x=\"interest_level\",data=full_data,jitter=True,order=order)"
   ]
  },
  {
   "cell_type": "markdown",
   "metadata": {},
   "source": [
    "High profile managers"
   ]
  },
  {
   "cell_type": "code",
   "execution_count": 62,
   "metadata": {
    "collapsed": false
   },
   "outputs": [
    {
     "data": {
      "image/png": "[encoded data removed]",
      "text/plain": [
       "<matplotlib.figure.Figure at 0x7f7f70ef1810>"
      ]
     },
     "metadata": {},
     "output_type": "display_data"
    }
   ],
   "source": [
    "managerDF = full_data.groupby(['manager_id', 'interest_level'])['manager_id'].count().unstack('interest_level').fillna(0)\n",
    "managerDF[\"sum\"]=managerDF.sum(axis=1)\n",
    "x=managerDF[ (managerDF['sum'] > 80) & (managerDF['high'] > 30)]\n",
    "managerDF.head()\n",
    "x.sort_values(\"sum\",inplace=True)\n",
    "plt.title(\"High Profile Managers\")\n",
    "plt.xlabel(\"High Interest level\")\n",
    "plt.ylabel(\"Manager ID\")\n",
    "x = x[x.index != 'e6472c7237327dd3903b3d6f6a94515a']\n",
    "x[\"sum\"].plot(kind='barh',color=\"brown\");"
   ]
  },
  {
   "cell_type": "code",
   "execution_count": 19,
   "metadata": {
    "collapsed": true
   },
   "outputs": [],
   "source": [
    "# Removes symbols, numbers and stem the words to reduce dimentional space\n",
    "stemmer = PorterStemmer()\n",
    "\n",
    "def clean(x):\n",
    "    regex = re.compile('[^a-zA-Z ]')\n",
    "    # For user clarity, broken it into three steps\n",
    "    i = regex.sub(' ', x).lower()\n",
    "    i = i.split(\" \") \n",
    "    i= [stemmer.stem(l) for l in i]\n",
    "    i= \" \".join([l.strip() for l in i if (len(l)>2) ]) # Keeping words that have length greater than 2\n",
    "    return i"
   ]
  },
  {
   "cell_type": "code",
   "execution_count": 20,
   "metadata": {
    "collapsed": false
   },
   "outputs": [],
   "source": [
    "full_data['description_new'] = full_data.description.apply(lambda x: clean(x))"
   ]
  },
  {
   "cell_type": "code",
   "execution_count": 21,
   "metadata": {
    "collapsed": false
   },
   "outputs": [
    {
     "data": {
      "text/html": [
       "<div>\n",
       "<table border=\"1\" class=\"dataframe\">\n",
       "  <thead>\n",
       "    <tr style=\"text-align: right;\">\n",
       "      <th></th>\n",
       "      <th>description</th>\n",
       "      <th>description_new</th>\n",
       "    </tr>\n",
       "  </thead>\n",
       "  <tbody>\n",
       "    <tr>\n",
       "      <th>10</th>\n",
       "      <td>A Brand New 3 Bedroom 1.5 bath ApartmentEnjoy ...</td>\n",
       "      <td>brand new bedroom bath apartmentenjoy these fo...</td>\n",
       "    </tr>\n",
       "    <tr>\n",
       "      <th>10000</th>\n",
       "      <td></td>\n",
       "      <td></td>\n",
       "    </tr>\n",
       "    <tr>\n",
       "      <th>100004</th>\n",
       "      <td>Top Top West Village location, beautiful Pre-w...</td>\n",
       "      <td>top top west villag locat beauti pre war build...</td>\n",
       "    </tr>\n",
       "  </tbody>\n",
       "</table>\n",
       "</div>"
      ],
      "text/plain": [
       "                                              description  \\\n",
       "10      A Brand New 3 Bedroom 1.5 bath ApartmentEnjoy ...   \n",
       "10000                                                       \n",
       "100004  Top Top West Village location, beautiful Pre-w...   \n",
       "\n",
       "                                          description_new  \n",
       "10      brand new bedroom bath apartmentenjoy these fo...  \n",
       "10000                                                      \n",
       "100004  top top west villag locat beauti pre war build...  "
      ]
     },
     "execution_count": 21,
     "metadata": {},
     "output_type": "execute_result"
    }
   ],
   "source": [
    "full_data[['description','description_new']].head(3)"
   ]
  },
  {
   "cell_type": "code",
   "execution_count": 38,
   "metadata": {
    "collapsed": false
   },
   "outputs": [],
   "source": [
    "# Building null\n",
    "full_data['num_building_null'] = (full_data.building_id=='0').astype(float)"
   ]
  },
  {
   "cell_type": "code",
   "execution_count": 40,
   "metadata": {
    "collapsed": true
   },
   "outputs": [],
   "source": [
    "n_min=50\n",
    "precision=3"
   ]
  },
  {
   "cell_type": "code",
   "execution_count": 53,
   "metadata": {
    "collapsed": true
   },
   "outputs": [],
   "source": [
    "# Building frequency\n",
    "d = np.log1p(full_data.building_id.value_counts()).to_dict()\n",
    "impute = np.min(np.array(list(d.values())))\n",
    "full_data['num_fbuilding'] = full_data.building_id.apply(lambda x: d.get(x, impute))"
   ]
  },
  {
   "cell_type": "code",
   "execution_count": 56,
   "metadata": {
    "collapsed": false
   },
   "outputs": [],
   "source": [
    "# Bedrooms/Bathrooms/Price\n",
    "full_data['num_bathrooms'] = full_data.bathrooms.clip_upper(4)\n",
    "full_data['num_bedrooms'] = full_data.bedrooms.clip_upper(5)\n",
    "full_data['num_price'] = full_data.price.clip_upper(10000)\n",
    "bins = full_data.price.quantile(np.arange(0.05, 1, 0.05))\n",
    "full_data['num_price_q'] = np.digitize(full_data.price, bins)"
   ]
  },
  {
   "cell_type": "code",
   "execution_count": 57,
   "metadata": {
    "collapsed": true
   },
   "outputs": [],
   "source": [
    "# Manager frequency\n",
    "d = np.log1p(full_data.manager_id.value_counts()).to_dict()\n",
    "impute = np.min(np.array(list(d.values())))\n",
    "full_data['num_fmanager'] = full_data.manager_id.apply(lambda x: d.get(x, impute))"
   ]
  },
  {
   "cell_type": "code",
   "execution_count": 60,
   "metadata": {
    "collapsed": false
   },
   "outputs": [],
   "source": [
    "full_data['num_priceXroom'] = (full_data.price / (1 + full_data.bedrooms.clip(1, 4) + 0.5*full_data.bathrooms.clip(0, 2))).values\n",
    "full_data['num_even_bathrooms'] = ((np.round(full_data.bathrooms) - full_data.bathrooms)==0).astype(float)"
   ]
  },
  {
   "cell_type": "code",
   "execution_count": 61,
   "metadata": {
    "collapsed": true
   },
   "outputs": [],
   "source": [
    "# Features/Description Features\n",
    "bows = {'nofee': ['no fee', 'no-fee', 'no  fee', 'nofee', 'no_fee'],\n",
    "        'lowfee': ['reduced_fee', 'low_fee','reduced fee', 'low fee'],\n",
    "        'furnished': ['furnished'],\n",
    "        'parquet': ['parquet', 'hardwood'],\n",
    "        'concierge': ['concierge', 'doorman', 'housekeep','in_super'],\n",
    "        'prewar': ['prewar', 'pre_war', 'pre war', 'pre-war'],\n",
    "        'laundry': ['laundry', 'lndry'],\n",
    "        'health': ['health', 'gym', 'fitness', 'training'],\n",
    "        'transport': ['train', 'subway', 'transport'],\n",
    "        'parking': ['parking'],\n",
    "        'utilities': ['utilities', 'heat water', 'water included']\n",
    "      }\n",
    "for fname, bow in bows.items():\n",
    "    x1 = full_data.description.str.lower().apply(lambda x: np.sum([1 for i in bow if i in x]))\n",
    "    x2 = full_data.features.apply(lambda x: np.sum([1 for i in bow if i in ' '.join(x).lower()]))\n",
    "    full_data['num_'+fname] = ((x1 + x2) > 0).astype(float).values   "
   ]
  },
  {
   "cell_type": "code",
   "execution_count": null,
   "metadata": {
    "collapsed": true
   },
   "outputs": [],
   "source": [
    "from sklearn.feature_extraction.text import CountVectorizer #Can use tfidffvectorizer as well\n",
    "\n",
    "cvect_desc = CountVectorizer(stop_words='english', max_features=300)\n",
    "full_sparse = cvect_desc.fit_transform(full_data.description_new)\n",
    " # Renaming words to avoid collisions with other feature names in the model\n",
    "col_desc = ['desc_'+ i for i in cvect_desc.get_feature_names()] \n",
    "count_vect_df = pd.DataFrame(full_sparse.todense(), columns=col_desc)\n",
    "full_data = pd.concat([full_data.reset_index(),count_vect_df],axis=1)"
   ]
  },
  {
   "cell_type": "code",
   "execution_count": 87,
   "metadata": {
    "collapsed": true
   },
   "outputs": [],
   "source": [
    "feats = [i for i in full_data.columns.values if i.startswith('num_')]\n",
    "feats.append('interest_level')\n",
    "feats.append('flag')"
   ]
  },
  {
   "cell_type": "code",
   "execution_count": 88,
   "metadata": {
    "collapsed": false
   },
   "outputs": [
    {
     "data": {
      "text/plain": [
       "['num_photos',\n",
       " 'num_features',\n",
       " 'num_description_words',\n",
       " 'num_description_len',\n",
       " 'num_building_null',\n",
       " 'num_fbuilding',\n",
       " 'num_bathrooms',\n",
       " 'num_bedrooms',\n",
       " 'num_price',\n",
       " 'num_price_q',\n",
       " 'num_fmanager',\n",
       " 'num_priceXroom',\n",
       " 'num_even_bathrooms',\n",
       " 'num_laundry',\n",
       " 'num_furnished',\n",
       " 'num_utilities',\n",
       " 'num_concierge',\n",
       " 'num_parking',\n",
       " 'num_lowfee',\n",
       " 'num_nofee',\n",
       " 'num_transport',\n",
       " 'num_prewar',\n",
       " 'num_health',\n",
       " 'num_parquet',\n",
       " 'num_created_weekday',\n",
       " 'num_created_weekofyear',\n",
       " 'interest_level',\n",
       " 'flag']"
      ]
     },
     "execution_count": 88,
     "metadata": {},
     "output_type": "execute_result"
    }
   ],
   "source": [
    "feats"
   ]
  },
  {
   "cell_type": "code",
   "execution_count": 89,
   "metadata": {
    "collapsed": false
   },
   "outputs": [
    {
     "data": {
      "text/plain": [
       "28"
      ]
     },
     "execution_count": 89,
     "metadata": {},
     "output_type": "execute_result"
    }
   ],
   "source": [
    "len(feats)"
   ]
  },
  {
   "cell_type": "markdown",
   "metadata": {},
   "source": [
    "Keeping only relevant features"
   ]
  },
  {
   "cell_type": "code",
   "execution_count": 90,
   "metadata": {
    "collapsed": true
   },
   "outputs": [],
   "source": [
    "relevant_data = full_data[feats]"
   ]
  },
  {
   "cell_type": "code",
   "execution_count": 91,
   "metadata": {
    "collapsed": false
   },
   "outputs": [
    {
     "data": {
      "text/html": [
       "<div>\n",
       "<table border=\"1\" class=\"dataframe\">\n",
       "  <thead>\n",
       "    <tr style=\"text-align: right;\">\n",
       "      <th></th>\n",
       "      <th>0</th>\n",
       "      <th>1</th>\n",
       "    </tr>\n",
       "  </thead>\n",
       "  <tbody>\n",
       "    <tr>\n",
       "      <th>num_photos</th>\n",
       "      <td>5</td>\n",
       "      <td>11</td>\n",
       "    </tr>\n",
       "    <tr>\n",
       "      <th>num_features</th>\n",
       "      <td>0</td>\n",
       "      <td>5</td>\n",
       "    </tr>\n",
       "    <tr>\n",
       "      <th>num_description_words</th>\n",
       "      <td>95</td>\n",
       "      <td>9</td>\n",
       "    </tr>\n",
       "    <tr>\n",
       "      <th>num_description_len</th>\n",
       "      <td>588</td>\n",
       "      <td>8</td>\n",
       "    </tr>\n",
       "    <tr>\n",
       "      <th>num_building_null</th>\n",
       "      <td>0</td>\n",
       "      <td>0</td>\n",
       "    </tr>\n",
       "    <tr>\n",
       "      <th>num_fbuilding</th>\n",
       "      <td>1.79176</td>\n",
       "      <td>3.95124</td>\n",
       "    </tr>\n",
       "    <tr>\n",
       "      <th>num_bathrooms</th>\n",
       "      <td>1.5</td>\n",
       "      <td>1</td>\n",
       "    </tr>\n",
       "    <tr>\n",
       "      <th>num_bedrooms</th>\n",
       "      <td>3</td>\n",
       "      <td>2</td>\n",
       "    </tr>\n",
       "    <tr>\n",
       "      <th>num_price</th>\n",
       "      <td>3000</td>\n",
       "      <td>5465</td>\n",
       "    </tr>\n",
       "    <tr>\n",
       "      <th>num_price_q</th>\n",
       "      <td>9</td>\n",
       "      <td>17</td>\n",
       "    </tr>\n",
       "    <tr>\n",
       "      <th>num_fmanager</th>\n",
       "      <td>5.46383</td>\n",
       "      <td>5.273</td>\n",
       "    </tr>\n",
       "    <tr>\n",
       "      <th>num_priceXroom</th>\n",
       "      <td>631.579</td>\n",
       "      <td>1561.43</td>\n",
       "    </tr>\n",
       "    <tr>\n",
       "      <th>num_even_bathrooms</th>\n",
       "      <td>0</td>\n",
       "      <td>1</td>\n",
       "    </tr>\n",
       "    <tr>\n",
       "      <th>num_laundry</th>\n",
       "      <td>0</td>\n",
       "      <td>0</td>\n",
       "    </tr>\n",
       "    <tr>\n",
       "      <th>num_furnished</th>\n",
       "      <td>0</td>\n",
       "      <td>0</td>\n",
       "    </tr>\n",
       "    <tr>\n",
       "      <th>num_utilities</th>\n",
       "      <td>0</td>\n",
       "      <td>0</td>\n",
       "    </tr>\n",
       "    <tr>\n",
       "      <th>num_concierge</th>\n",
       "      <td>0</td>\n",
       "      <td>1</td>\n",
       "    </tr>\n",
       "    <tr>\n",
       "      <th>num_parking</th>\n",
       "      <td>0</td>\n",
       "      <td>0</td>\n",
       "    </tr>\n",
       "    <tr>\n",
       "      <th>num_lowfee</th>\n",
       "      <td>0</td>\n",
       "      <td>0</td>\n",
       "    </tr>\n",
       "    <tr>\n",
       "      <th>num_nofee</th>\n",
       "      <td>0</td>\n",
       "      <td>0</td>\n",
       "    </tr>\n",
       "    <tr>\n",
       "      <th>num_transport</th>\n",
       "      <td>1</td>\n",
       "      <td>0</td>\n",
       "    </tr>\n",
       "    <tr>\n",
       "      <th>num_prewar</th>\n",
       "      <td>0</td>\n",
       "      <td>0</td>\n",
       "    </tr>\n",
       "    <tr>\n",
       "      <th>num_health</th>\n",
       "      <td>0</td>\n",
       "      <td>1</td>\n",
       "    </tr>\n",
       "    <tr>\n",
       "      <th>num_parquet</th>\n",
       "      <td>1</td>\n",
       "      <td>0</td>\n",
       "    </tr>\n",
       "    <tr>\n",
       "      <th>num_created_weekday</th>\n",
       "      <td>4</td>\n",
       "      <td>6</td>\n",
       "    </tr>\n",
       "    <tr>\n",
       "      <th>num_created_weekofyear</th>\n",
       "      <td>25</td>\n",
       "      <td>23</td>\n",
       "    </tr>\n",
       "    <tr>\n",
       "      <th>interest_level</th>\n",
       "      <td>medium</td>\n",
       "      <td>low</td>\n",
       "    </tr>\n",
       "    <tr>\n",
       "      <th>flag</th>\n",
       "      <td>train</td>\n",
       "      <td>train</td>\n",
       "    </tr>\n",
       "  </tbody>\n",
       "</table>\n",
       "</div>"
      ],
      "text/plain": [
       "                              0        1\n",
       "num_photos                    5       11\n",
       "num_features                  0        5\n",
       "num_description_words        95        9\n",
       "num_description_len         588        8\n",
       "num_building_null             0        0\n",
       "num_fbuilding           1.79176  3.95124\n",
       "num_bathrooms               1.5        1\n",
       "num_bedrooms                  3        2\n",
       "num_price                  3000     5465\n",
       "num_price_q                   9       17\n",
       "num_fmanager            5.46383    5.273\n",
       "num_priceXroom          631.579  1561.43\n",
       "num_even_bathrooms            0        1\n",
       "num_laundry                   0        0\n",
       "num_furnished                 0        0\n",
       "num_utilities                 0        0\n",
       "num_concierge                 0        1\n",
       "num_parking                   0        0\n",
       "num_lowfee                    0        0\n",
       "num_nofee                     0        0\n",
       "num_transport                 1        0\n",
       "num_prewar                    0        0\n",
       "num_health                    0        1\n",
       "num_parquet                   1        0\n",
       "num_created_weekday           4        6\n",
       "num_created_weekofyear       25       23\n",
       "interest_level           medium      low\n",
       "flag                      train    train"
      ]
     },
     "execution_count": 91,
     "metadata": {},
     "output_type": "execute_result"
    }
   ],
   "source": [
    "relevant_data.head(2).T"
   ]
  },
  {
   "cell_type": "code",
   "execution_count": 86,
   "metadata": {
    "collapsed": false
   },
   "outputs": [
    {
     "name": "stdout",
     "output_type": "stream",
     "text": [
      "<class 'pandas.core.frame.DataFrame'>\n",
      "RangeIndex: 124011 entries, 0 to 124010\n",
      "Data columns (total 27 columns):\n",
      "num_photos                124011 non-null int64\n",
      "num_features              124011 non-null int64\n",
      "num_description_words     124011 non-null int64\n",
      "num_description_len       124011 non-null int64\n",
      "num_building_null         124011 non-null float64\n",
      "num_fbuilding             124011 non-null float64\n",
      "num_bathrooms             124011 non-null float64\n",
      "num_bedrooms              124011 non-null int64\n",
      "num_price                 124011 non-null int64\n",
      "num_price_q               124011 non-null int64\n",
      "num_fmanager              124011 non-null float64\n",
      "num_priceXroom            124011 non-null float64\n",
      "num_even_bathrooms        124011 non-null float64\n",
      "num_laundry               124011 non-null float64\n",
      "num_furnished             124011 non-null float64\n",
      "num_utilities             124011 non-null float64\n",
      "num_concierge             124011 non-null float64\n",
      "num_parking               124011 non-null float64\n",
      "num_lowfee                124011 non-null float64\n",
      "num_nofee                 124011 non-null float64\n",
      "num_transport             124011 non-null float64\n",
      "num_prewar                124011 non-null float64\n",
      "num_health                124011 non-null float64\n",
      "num_parquet               124011 non-null float64\n",
      "num_created_weekday       124011 non-null float64\n",
      "num_created_weekofyear    124011 non-null int64\n",
      "interest_level            49352 non-null object\n",
      "dtypes: float64(18), int64(8), object(1)\n",
      "memory usage: 25.5+ MB\n"
     ]
    }
   ],
   "source": [
    "relevant_data.info()"
   ]
  },
  {
   "cell_type": "markdown",
   "metadata": {},
   "source": [
    "### 4. Train Model"
   ]
  },
  {
   "cell_type": "code",
   "execution_count": 145,
   "metadata": {
    "collapsed": true
   },
   "outputs": [],
   "source": [
    "import time as time\n",
    "from sklearn.neural_network import MLPClassifier\n",
    "from sklearn.metrics import log_loss\n",
    "from sklearn.grid_search import GridSearchCV\n",
    "from sklearn.pipeline import make_pipeline"
   ]
  },
  {
   "cell_type": "code",
   "execution_count": 138,
   "metadata": {
    "collapsed": true
   },
   "outputs": [],
   "source": [
    "train =(relevant_data[relevant_data.flag=='train'])\n",
    "test =(relevant_data[relevant_data.flag=='test'])"
   ]
  },
  {
   "cell_type": "code",
   "execution_count": 139,
   "metadata": {
    "collapsed": false
   },
   "outputs": [],
   "source": [
    "labels = {'high':0, 'medium':1, 'low':2}\n",
    "train['interest_level'] = train.interest_level.apply(lambda x: labels[x])"
   ]
  },
  {
   "cell_type": "code",
   "execution_count": 140,
   "metadata": {
    "collapsed": true
   },
   "outputs": [],
   "source": [
    "Y = train.interest_level.values"
   ]
  },
  {
   "cell_type": "code",
   "execution_count": 141,
   "metadata": {
    "collapsed": true
   },
   "outputs": [],
   "source": [
    "train.drop(labels=['flag', 'interest_level'], axis=1, inplace=True)\n",
    "test.drop(labels=['flag', 'interest_level'], axis=1, inplace=True)"
   ]
  },
  {
   "cell_type": "code",
   "execution_count": 142,
   "metadata": {
    "collapsed": false
   },
   "outputs": [
    {
     "data": {
      "text/plain": [
       "float64    18\n",
       "int64       8\n",
       "dtype: int64"
      ]
     },
     "execution_count": 142,
     "metadata": {},
     "output_type": "execute_result"
    }
   ],
   "source": [
    "train.get_dtype_counts()"
   ]
  },
  {
   "cell_type": "code",
   "execution_count": 143,
   "metadata": {
    "collapsed": false
   },
   "outputs": [
    {
     "name": "stdout",
     "output_type": "stream",
     "text": [
      "((49352, 26), (74659, 26))\n"
     ]
    }
   ],
   "source": [
    "x_train = train.values\n",
    "x_test = test.values\n",
    "print(x_train.shape, x_test.shape)"
   ]
  },
  {
   "cell_type": "code",
   "execution_count": 144,
   "metadata": {
    "collapsed": true
   },
   "outputs": [],
   "source": [
    "# Normalize\n",
    "for i in range(x_train.shape[1]):\n",
    "    x_test[:, i] = (x_test[:, i] - np.mean(x_train[:, i]))/np.std(x_train[:, i])\n",
    "    x_train[:, i] = (x_train[:, i] - np.mean(x_train[:, i]))/np.std(x_train[:, i])"
   ]
  },
  {
   "cell_type": "code",
   "execution_count": 146,
   "metadata": {
    "collapsed": false
   },
   "outputs": [
    {
     "name": "stdout",
     "output_type": "stream",
     "text": [
      "Fitting 2 folds for each of 1 candidates, totalling 2 fits\n",
      "[CV] alpha=1e-06, activation=tanh, hidden_layer_sizes=(10, 30, 5) ....\n",
      "[CV] alpha=1e-06, activation=tanh, hidden_layer_sizes=(10, 30, 5) ....\n",
      "[CV]  alpha=1e-06, activation=tanh, hidden_layer_sizes=(10, 30, 5) -  18.6s\n",
      "[CV]  alpha=1e-06, activation=tanh, hidden_layer_sizes=(10, 30, 5) -  18.9s\n"
     ]
    },
    {
     "name": "stderr",
     "output_type": "stream",
     "text": [
      "[Parallel(n_jobs=-1)]: Done   2 out of   2 | elapsed:   18.9s finished\n"
     ]
    },
    {
     "name": "stdout",
     "output_type": "stream",
     "text": [
      "- Time: 0.64 minutes\n",
      "- Best score: -0.6425\n",
      "- Best params: {'alpha': 1e-06, 'activation': 'tanh', 'hidden_layer_sizes': (10, 30, 5)}\n"
     ]
    }
   ],
   "source": [
    "clf_nn = MLPClassifier(solver='lbfgs', random_state=1)\n",
    "params = {\n",
    "    'alpha': [1e-6], # 1e-5, 1e-4...\n",
    "    'activation': ['tanh'], # 'relu', 'sigmoid'....\n",
    "    'hidden_layer_sizes': [(10, 30, 5)]#, (30, 30, 5), (20, 20, 20), (30, 30, 5)]\n",
    "}\n",
    "gs_nn = GridSearchCV(clf_nn, param_grid=params, scoring='neg_log_loss', n_jobs=-1, cv=2, verbose=2, refit=True) # cv=5\n",
    "start = time.time()\n",
    "gs_nn.fit(x_train, Y)\n",
    "print('- Time: %.2f minutes' % ((time.time() - start)/60))\n",
    "print('- Best score: %.4f' % gs_nn.best_score_)\n",
    "print('- Best params: %s' % gs_nn.best_params_)"
   ]
  },
  {
   "cell_type": "code",
   "execution_count": 161,
   "metadata": {
    "collapsed": false
   },
   "outputs": [
    {
     "name": "stdout",
     "output_type": "stream",
     "text": [
      "Fitting 2 folds for each of 12 candidates, totalling 24 fits\n",
      "[CV] alpha=1e-06, activation=tanh, hidden_layer_sizes=(10, 30, 5) ....\n",
      "[CV] alpha=1e-06, activation=tanh, hidden_layer_sizes=(10, 30, 5) ....\n",
      "[CV] alpha=1e-06, activation=tanh, hidden_layer_sizes=(30, 30, 5) ....\n",
      "[CV] alpha=1e-06, activation=tanh, hidden_layer_sizes=(30, 30, 5) ....\n",
      "[CV]  alpha=1e-06, activation=tanh, hidden_layer_sizes=(10, 30, 5) -  40.4s\n",
      "[CV] alpha=1e-06, activation=tanh, hidden_layer_sizes=(20, 20, 20) ...\n",
      "[CV]  alpha=1e-06, activation=tanh, hidden_layer_sizes=(10, 30, 5) -  41.2s\n",
      "[CV] alpha=1e-06, activation=tanh, hidden_layer_sizes=(20, 20, 20) ...\n",
      "[CV]  alpha=1e-06, activation=tanh, hidden_layer_sizes=(30, 30, 5) -  59.3s\n",
      "[CV] alpha=1e-05, activation=tanh, hidden_layer_sizes=(10, 30, 5) ....\n",
      "[CV]  alpha=1e-06, activation=tanh, hidden_layer_sizes=(30, 30, 5) -  59.8s\n",
      "[CV] alpha=1e-05, activation=tanh, hidden_layer_sizes=(10, 30, 5) ....\n",
      "[CV]  alpha=1e-06, activation=tanh, hidden_layer_sizes=(20, 20, 20) -  57.5s\n",
      "[CV] alpha=1e-05, activation=tanh, hidden_layer_sizes=(30, 30, 5) ....\n",
      "[CV]  alpha=1e-06, activation=tanh, hidden_layer_sizes=(20, 20, 20) -  58.5s\n",
      "[CV] alpha=1e-05, activation=tanh, hidden_layer_sizes=(30, 30, 5) ....\n",
      "[CV]  alpha=1e-05, activation=tanh, hidden_layer_sizes=(10, 30, 5) -  39.4s\n",
      "[CV] alpha=1e-05, activation=tanh, hidden_layer_sizes=(20, 20, 20) ...\n",
      "[CV]  alpha=1e-05, activation=tanh, hidden_layer_sizes=(10, 30, 5) -  40.2s\n",
      "[CV] alpha=1e-05, activation=tanh, hidden_layer_sizes=(20, 20, 20) ...\n",
      "[CV]  alpha=1e-05, activation=tanh, hidden_layer_sizes=(20, 20, 20) -  57.6s\n",
      "[CV] alpha=1e-06, activation=relu, hidden_layer_sizes=(10, 30, 5) ....\n",
      "[CV]  alpha=1e-05, activation=tanh, hidden_layer_sizes=(20, 20, 20) -  58.7s\n",
      "[CV] alpha=1e-06, activation=relu, hidden_layer_sizes=(10, 30, 5) ....\n",
      "[CV]  alpha=1e-05, activation=tanh, hidden_layer_sizes=(30, 30, 5) - 1.0min\n",
      "[CV] alpha=1e-06, activation=relu, hidden_layer_sizes=(30, 30, 5) ....\n",
      "[CV]  alpha=1e-05, activation=tanh, hidden_layer_sizes=(30, 30, 5) - 1.0min\n",
      "[CV] alpha=1e-06, activation=relu, hidden_layer_sizes=(30, 30, 5) ....\n",
      "[CV]  alpha=1e-06, activation=relu, hidden_layer_sizes=(10, 30, 5) -  25.2s\n",
      "[CV] alpha=1e-06, activation=relu, hidden_layer_sizes=(20, 20, 20) ...\n",
      "[CV]  alpha=1e-06, activation=relu, hidden_layer_sizes=(10, 30, 5) -  26.7s\n",
      "[CV] alpha=1e-06, activation=relu, hidden_layer_sizes=(20, 20, 20) ...\n",
      "[CV]  alpha=1e-06, activation=relu, hidden_layer_sizes=(30, 30, 5) -  35.6s\n",
      "[CV] alpha=1e-05, activation=relu, hidden_layer_sizes=(10, 30, 5) ....\n",
      "[CV]  alpha=1e-06, activation=relu, hidden_layer_sizes=(30, 30, 5) -  35.8s\n",
      "[CV] alpha=1e-05, activation=relu, hidden_layer_sizes=(10, 30, 5) ....\n",
      "[CV]  alpha=1e-06, activation=relu, hidden_layer_sizes=(20, 20, 20) -  33.8s\n",
      "[CV] alpha=1e-05, activation=relu, hidden_layer_sizes=(30, 30, 5) ....\n",
      "[CV]  alpha=1e-05, activation=relu, hidden_layer_sizes=(10, 30, 5) -  24.6s\n",
      "[CV] alpha=1e-05, activation=relu, hidden_layer_sizes=(30, 30, 5) ....\n",
      "[CV]  alpha=1e-05, activation=relu, hidden_layer_sizes=(10, 30, 5) -  23.7s\n",
      "[CV] alpha=1e-05, activation=relu, hidden_layer_sizes=(20, 20, 20) ...\n",
      "[CV]  alpha=1e-06, activation=relu, hidden_layer_sizes=(20, 20, 20) -  36.7s\n",
      "[CV] alpha=1e-05, activation=relu, hidden_layer_sizes=(20, 20, 20) ...\n",
      "[CV]  alpha=1e-05, activation=relu, hidden_layer_sizes=(30, 30, 5) -  35.4s\n",
      "[CV]  alpha=1e-05, activation=relu, hidden_layer_sizes=(30, 30, 5) -  35.1s\n",
      "[CV]  alpha=1e-05, activation=relu, hidden_layer_sizes=(20, 20, 20) -  35.7s\n",
      "[CV]  alpha=1e-05, activation=relu, hidden_layer_sizes=(20, 20, 20) -  34.8s\n"
     ]
    },
    {
     "name": "stderr",
     "output_type": "stream",
     "text": [
      "[Parallel(n_jobs=-1)]: Done  24 out of  24 | elapsed:  4.3min finished\n"
     ]
    },
    {
     "name": "stdout",
     "output_type": "stream",
     "text": [
      "- Time: 4.57 minutes\n",
      "- Best score: -0.6357\n",
      "- Best params: {'alpha': 1e-05, 'activation': 'relu', 'hidden_layer_sizes': (10, 30, 5)}\n"
     ]
    }
   ],
   "source": [
    "clf_nn_full = MLPClassifier(solver='lbfgs', random_state=1)\n",
    "params = {\n",
    "    'alpha': [1e-6,1e-5],\n",
    "    'activation': ['tanh', 'relu'],\n",
    "    'hidden_layer_sizes': [(10, 30, 5), (30, 30, 5), (20, 20, 20)]\n",
    "}\n",
    "gs_nn = GridSearchCV(clf_nn_full, param_grid=params, scoring='neg_log_loss', n_jobs=-1, cv=2, verbose=2, refit=True) # cv=5\n",
    "start = time.time()\n",
    "gs_nn.fit(x_train, Y)\n",
    "print('- Time: %.2f minutes' % ((time.time() - start)/60))\n",
    "print('- Best score: %.4f' % gs_nn.best_score_)\n",
    "print('- Best params: %s' % gs_nn.best_params_)"
   ]
  },
  {
   "cell_type": "markdown",
   "metadata": {},
   "source": [
    "### 5. Make predictions and Submit to Kaggle"
   ]
  },
  {
   "cell_type": "code",
   "execution_count": 156,
   "metadata": {
    "collapsed": true
   },
   "outputs": [],
   "source": [
    "def output_results(clf, x_test, listing, fname):\n",
    "    preds = clf.predict_proba(x_test)\n",
    "    preds = pd.DataFrame(preds)\n",
    "    cols = ['low', 'medium', 'high']\n",
    "    preds.columns = cols\n",
    "    preds['listing_id'] = listing\n",
    "    preds.to_csv(fname,columns = ['listing_id', 'high', 'medium', 'low'], index=None)\n",
    "    print(preds[cols].mean().values)"
   ]
  },
  {
   "cell_type": "code",
   "execution_count": 151,
   "metadata": {
    "collapsed": false
   },
   "outputs": [],
   "source": [
    "df_test = pd.read_json('data/test.json')"
   ]
  },
  {
   "cell_type": "code",
   "execution_count": 157,
   "metadata": {
    "collapsed": false
   },
   "outputs": [
    {
     "name": "stdout",
     "output_type": "stream",
     "text": [
      "[ 0.07877737  0.22797391  0.69324872]\n"
     ]
    }
   ],
   "source": [
    "output_results(gs_nn, x_test, df_test.listing_id.values, 'full_nn.csv')"
   ]
  },
  {
   "cell_type": "code",
   "execution_count": 158,
   "metadata": {
    "collapsed": false
   },
   "outputs": [
    {
     "name": "stdout",
     "output_type": "stream",
     "text": [
      "  adding: full_nn.csv (deflated 55%)\n"
     ]
    }
   ],
   "source": [
    "!zip full_nn.zip full_nn.csv"
   ]
  },
  {
   "cell_type": "code",
   "execution_count": 162,
   "metadata": {
    "collapsed": false
   },
   "outputs": [],
   "source": [
    "import cPickle\n",
    "# save the classifier\n",
    "with open('relu_nn.pkl', 'wb') as fid:\n",
    "    cPickle.dump(gs_nn, fid)    \n"
   ]
  },
  {
   "cell_type": "code",
   "execution_count": null,
   "metadata": {
    "collapsed": true
   },
   "outputs": [],
   "source": [
    "\n",
    "# load it again\n",
    "with open('relu_nn.pkl', 'rb') as fid:\n",
    "    gnb_loaded = cPickle.load(fid)"
   ]
  }
 ],
 "metadata": {
  "kernelspec": {
   "display_name": "Python 2",
   "language": "python",
   "name": "python2"
  },
  "language_info": {
   "codemirror_mode": {
    "name": "ipython",
    "version": 2
   },
   "file_extension": ".py",
   "mimetype": "text/x-python",
   "name": "python",
   "nbconvert_exporter": "python",
   "pygments_lexer": "ipython2",
   "version": "2.7.12"
  }
 },
 "nbformat": 4,
 "nbformat_minor": 2
}
